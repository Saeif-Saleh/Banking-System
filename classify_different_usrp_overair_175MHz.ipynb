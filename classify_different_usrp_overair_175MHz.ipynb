{
  "nbformat": 4,
  "nbformat_minor": 0,
  "metadata": {
    "colab": {
      "name": " classify_different_usrp_overair_175MHz.ipynb",
      "provenance": [],
      "toc_visible": true,
      "machine_shape": "hm",
      "mount_file_id": "https://github.com/Saeif-Saleh/AppPortfolio/blob/master/classify_different_usrp_overair_175MHz.ipynb",
      "authorship_tag": "ABX9TyOCrKI0oPzGoEOo/YPAFZCL",
      "include_colab_link": true
    },
    "kernelspec": {
      "name": "python3",
      "display_name": "Python 3"
    },
    "accelerator": "GPU"
  },
  "cells": [
    {
      "cell_type": "markdown",
      "metadata": {
        "id": "view-in-github",
        "colab_type": "text"
      },
      "source": [
        "<a href=\"https://colab.research.google.com/github/Saeif-Saleh/Banking-System/blob/master/classify_different_usrp_overair_175MHz.ipynb\" target=\"_parent\"><img src=\"https://colab.research.google.com/assets/colab-badge.svg\" alt=\"Open In Colab\"/></a>"
      ]
    },
    {
      "cell_type": "code",
      "metadata": {
        "id": "ryuxsVZ1HN13",
        "colab_type": "code",
        "outputId": "5d830521-2f5a-43a2-e999-8520a98a7d4b",
        "colab": {
          "base_uri": "https://localhost:8080/",
          "height": 326
        }
      },
      "source": [
        "!nvidia-smi\n",
        "# !pip install --upgrade tensorflow"
      ],
      "execution_count": 1,
      "outputs": [
        {
          "output_type": "stream",
          "text": [
            "Mon Mar 23 13:53:44 2020       \n",
            "+-----------------------------------------------------------------------------+\n",
            "| NVIDIA-SMI 440.64.00    Driver Version: 418.67       CUDA Version: 10.1     |\n",
            "|-------------------------------+----------------------+----------------------+\n",
            "| GPU  Name        Persistence-M| Bus-Id        Disp.A | Volatile Uncorr. ECC |\n",
            "| Fan  Temp  Perf  Pwr:Usage/Cap|         Memory-Usage | GPU-Util  Compute M. |\n",
            "|===============================+======================+======================|\n",
            "|   0  Tesla P100-PCIE...  Off  | 00000000:00:04.0 Off |                    0 |\n",
            "| N/A   38C    P0    26W / 250W |      0MiB / 16280MiB |      0%      Default |\n",
            "+-------------------------------+----------------------+----------------------+\n",
            "                                                                               \n",
            "+-----------------------------------------------------------------------------+\n",
            "| Processes:                                                       GPU Memory |\n",
            "|  GPU       PID   Type   Process name                             Usage      |\n",
            "|=============================================================================|\n",
            "|  No running processes found                                                 |\n",
            "+-----------------------------------------------------------------------------+\n"
          ],
          "name": "stdout"
        }
      ]
    },
    {
      "cell_type": "code",
      "metadata": {
        "id": "srGmbh3UH-9C",
        "colab_type": "code",
        "colab": {}
      },
      "source": [
        "import scipy.io\n",
        "import numpy as np"
      ],
      "execution_count": 0,
      "outputs": []
    },
    {
      "cell_type": "code",
      "metadata": {
        "id": "pmAM90B7IEtp",
        "colab_type": "code",
        "colab": {}
      },
      "source": [
        "matlab_data=scipy.io.loadmat('/content/drive/My Drive/thesis_data/Usrps_in_175.mat')"
      ],
      "execution_count": 0,
      "outputs": []
    },
    {
      "cell_type": "code",
      "metadata": {
        "id": "rDhGQ3vQIKHo",
        "colab_type": "code",
        "outputId": "3aede1ec-85e0-414b-fcb5-f3a73ade939d",
        "colab": {
          "base_uri": "https://localhost:8080/",
          "height": 35
        }
      },
      "source": [
        "print(list(matlab_data.keys())[3:])"
      ],
      "execution_count": 4,
      "outputs": [
        {
          "output_type": "stream",
          "text": [
            "['R2_T3_test', 'R2_T3_train', 'R2_T4_test', 'R2_T4_train', 'R2_T5_test', 'T5_train']\n"
          ],
          "name": "stdout"
        }
      ]
    },
    {
      "cell_type": "code",
      "metadata": {
        "id": "SHD8OGE6IP2x",
        "colab_type": "code",
        "colab": {}
      },
      "source": [
        "usrp3_train=matlab_data['R2_T3_train']\n",
        "usrp4_train=matlab_data['R2_T4_train']\n",
        "usrp5_train=matlab_data['T5_train']"
      ],
      "execution_count": 0,
      "outputs": []
    },
    {
      "cell_type": "code",
      "metadata": {
        "id": "i5-KtwnvIgRx",
        "colab_type": "code",
        "outputId": "bda41041-8027-4a52-d172-8b99d8456f37",
        "colab": {
          "base_uri": "https://localhost:8080/",
          "height": 72
        }
      },
      "source": [
        "print(usrp3_train.shape)\n",
        "print(usrp4_train.shape)\n",
        "print(usrp5_train.shape)"
      ],
      "execution_count": 6,
      "outputs": [
        {
          "output_type": "stream",
          "text": [
            "(42227312, 2)\n",
            "(44468039, 2)\n",
            "(47525497, 2)\n"
          ],
          "name": "stdout"
        }
      ]
    },
    {
      "cell_type": "code",
      "metadata": {
        "id": "wCtzuPBLp1Yl",
        "colab_type": "code",
        "colab": {}
      },
      "source": [
        "# usrp3_train=usrp3_train.reshape(-1,2)\n",
        "# usrp4_train=usrp4_train.reshape(-1,2)\n",
        "# usrp5_train=usrp5_train.reshape(-1,2)\n",
        "# print(usrp3_train.shape)\n",
        "# print(usrp4_train.shape)\n",
        "# print(usrp5_train.shape)"
      ],
      "execution_count": 0,
      "outputs": []
    },
    {
      "cell_type": "code",
      "metadata": {
        "id": "GQ8asRi5IjJR",
        "colab_type": "code",
        "colab": {}
      },
      "source": [
        "usrp3_test=matlab_data['R2_T3_test']\n",
        "usrp4_test=matlab_data['R2_T4_test']\n",
        "usrp5_test=matlab_data['R2_T5_test']"
      ],
      "execution_count": 0,
      "outputs": []
    },
    {
      "cell_type": "code",
      "metadata": {
        "id": "V_0Ps642I0c3",
        "colab_type": "code",
        "outputId": "276739d6-557b-4dc1-ee66-905728999611",
        "colab": {
          "base_uri": "https://localhost:8080/",
          "height": 72
        }
      },
      "source": [
        "print(usrp5_test.shape)\n",
        "print(usrp4_test.shape)\n",
        "print(usrp3_test.shape)"
      ],
      "execution_count": 9,
      "outputs": [
        {
          "output_type": "stream",
          "text": [
            "(14201866, 2)\n",
            "(15826335, 2)\n",
            "(15493411, 2)\n"
          ],
          "name": "stdout"
        }
      ]
    },
    {
      "cell_type": "code",
      "metadata": {
        "id": "tYs5aVZeI4uZ",
        "colab_type": "code",
        "colab": {}
      },
      "source": [
        "usrp3_train=usrp3_train[1000000:17777216]\n",
        "usrp4_train=usrp4_train[1000000:17777216]\n",
        "usrp5_train=usrp5_train[1000000:17777216]"
      ],
      "execution_count": 0,
      "outputs": []
    },
    {
      "cell_type": "code",
      "metadata": {
        "id": "qwtbTMT7JYTp",
        "colab_type": "code",
        "colab": {}
      },
      "source": [
        "usrp3_test=usrp3_test[1000000:5194304]\n",
        "usrp4_test=usrp4_test[1000000:5194304]\n",
        "usrp5_test=usrp5_test[1000000:5194304]"
      ],
      "execution_count": 0,
      "outputs": []
    },
    {
      "cell_type": "code",
      "metadata": {
        "id": "Y1F_-SdZJgqR",
        "colab_type": "code",
        "outputId": "182004b6-f3aa-46b8-b09d-f54479f3ed4e",
        "colab": {
          "base_uri": "https://localhost:8080/",
          "height": 54
        }
      },
      "source": [
        "train_x=np.concatenate((usrp3_train,usrp4_train,usrp5_train),axis=0)\n",
        "test_x=np.concatenate((usrp3_test,usrp4_test,usrp5_test),axis=0)\n",
        "print(train_x.shape)\n",
        "print(test_x.shape)\n"
      ],
      "execution_count": 12,
      "outputs": [
        {
          "output_type": "stream",
          "text": [
            "(50331648, 2)\n",
            "(12582912, 2)\n"
          ],
          "name": "stdout"
        }
      ]
    },
    {
      "cell_type": "code",
      "metadata": {
        "id": "_n9LUgJ2JkOI",
        "colab_type": "code",
        "outputId": "312209c1-79a7-44dd-d0f7-a4850d82a3c7",
        "colab": {
          "base_uri": "https://localhost:8080/",
          "height": 65
        }
      },
      "source": [
        "import tensorflow as tf\n",
        "from tensorflow import keras\n",
        "from tensorflow.keras import layers"
      ],
      "execution_count": 13,
      "outputs": [
        {
          "output_type": "display_data",
          "data": {
            "text/html": [
              "<p style=\"color: red;\">\n",
              "The default version of TensorFlow in Colab will soon switch to TensorFlow 2.x.<br>\n",
              "We recommend you <a href=\"https://www.tensorflow.org/guide/migrate\" target=\"_blank\">upgrade</a> now \n",
              "or ensure your notebook will continue to use TensorFlow 1.x via the <code>%tensorflow_version 1.x</code> magic:\n",
              "<a href=\"https://colab.research.google.com/notebooks/tensorflow_version.ipynb\" target=\"_blank\">more info</a>.</p>\n"
            ],
            "text/plain": [
              "<IPython.core.display.HTML object>"
            ]
          },
          "metadata": {
            "tags": []
          }
        }
      ]
    },
    {
      "cell_type": "code",
      "metadata": {
        "id": "q2Wl_D1cJwkQ",
        "colab_type": "code",
        "colab": {}
      },
      "source": [
        "n_classes=3\n",
        "sample_size=128"
      ],
      "execution_count": 0,
      "outputs": []
    },
    {
      "cell_type": "code",
      "metadata": {
        "id": "JB_J3X8pJxdA",
        "colab_type": "code",
        "colab": {}
      },
      "source": [
        "train_x=train_x.reshape(-1,2,sample_size)\n",
        "test_x=test_x.reshape(-1,2,sample_size)"
      ],
      "execution_count": 0,
      "outputs": []
    },
    {
      "cell_type": "code",
      "metadata": {
        "id": "4ClQ42wLJybe",
        "colab_type": "code",
        "outputId": "67688f42-15c0-4af6-e469-8f0acd4fb305",
        "colab": {
          "base_uri": "https://localhost:8080/",
          "height": 35
        }
      },
      "source": [
        "#Creating train_y\n",
        "train_y=np.zeros(len(train_x))\n",
        "seprator=int(len(train_y)/n_classes)\n",
        "print(seprator)\n",
        "train_y[0:seprator]=0\n",
        "train_y[seprator:2*seprator]=1\n",
        "train_y[2*seprator:]=2\n",
        "# Creating test_y\n",
        "test_y=np.zeros(len(test_x))\n",
        "seprator=int(len(test_y)/n_classes)\n",
        "test_y[0:seprator]=0\n",
        "test_y[seprator:2*seprator]=1\n",
        "test_y[2*seprator:]=2\n"
      ],
      "execution_count": 16,
      "outputs": [
        {
          "output_type": "stream",
          "text": [
            "131072\n"
          ],
          "name": "stdout"
        }
      ]
    },
    {
      "cell_type": "code",
      "metadata": {
        "id": "eFrSfh-UJ35g",
        "colab_type": "code",
        "colab": {}
      },
      "source": [
        "train_y=tf.keras.utils.to_categorical(\n",
        "    train_y,\n",
        "    num_classes=n_classes,\n",
        "    dtype='float32'\n",
        ")\n",
        "test_y=tf.keras.utils.to_categorical(\n",
        "    test_y,\n",
        "    num_classes=n_classes,\n",
        "    dtype='float32'\n",
        ")"
      ],
      "execution_count": 0,
      "outputs": []
    },
    {
      "cell_type": "code",
      "metadata": {
        "id": "bJylsv9AJ6SZ",
        "colab_type": "code",
        "outputId": "4fa1c20a-3fe2-4593-f996-af125d4c3a6c",
        "colab": {
          "base_uri": "https://localhost:8080/",
          "height": 54
        }
      },
      "source": [
        "print(train_x.shape)\n",
        "print(train_y.shape)"
      ],
      "execution_count": 18,
      "outputs": [
        {
          "output_type": "stream",
          "text": [
            "(393216, 2, 128)\n",
            "(393216, 3)\n"
          ],
          "name": "stdout"
        }
      ]
    },
    {
      "cell_type": "code",
      "metadata": {
        "id": "30V3cs0nK6hZ",
        "colab_type": "code",
        "colab": {}
      },
      "source": [
        "from sklearn.model_selection import train_test_split\n",
        "train_x, valid_x, train_y, valid_y = train_test_split(train_x, train_y, test_size=0.20, shuffle= True)\n"
      ],
      "execution_count": 0,
      "outputs": []
    },
    {
      "cell_type": "code",
      "metadata": {
        "id": "mSehzUEygF0b",
        "colab_type": "code",
        "colab": {}
      },
      "source": [
        "img_rows=sample_size\n",
        "img_cols=2\n",
        "train_x = train_x.reshape(-1, img_rows, img_cols, 1)\n",
        "valid_x = valid_x.reshape(-1, img_rows, img_cols, 1)\n",
        "test_x=test_x.reshape(-1,img_rows,img_cols,1)\n",
        "input_shape = (img_rows, img_cols, 1)"
      ],
      "execution_count": 0,
      "outputs": []
    },
    {
      "cell_type": "code",
      "metadata": {
        "id": "70sRjREjAMwY",
        "colab_type": "code",
        "outputId": "f2a2292c-2077-44af-8fec-25abcf257caa",
        "colab": {
          "base_uri": "https://localhost:8080/",
          "height": 54
        }
      },
      "source": [
        "print(len(train_x))\n",
        "print(len(valid_x))"
      ],
      "execution_count": 21,
      "outputs": [
        {
          "output_type": "stream",
          "text": [
            "314572\n",
            "78644\n"
          ],
          "name": "stdout"
        }
      ]
    },
    {
      "cell_type": "code",
      "metadata": {
        "id": "VUHFjkfNJ9wp",
        "colab_type": "code",
        "outputId": "faeda2a2-bb62-4b57-b7f1-0c977f1ef13b",
        "colab": {
          "base_uri": "https://localhost:8080/",
          "height": 35
        }
      },
      "source": [
        "train_x.shape"
      ],
      "execution_count": 22,
      "outputs": [
        {
          "output_type": "execute_result",
          "data": {
            "text/plain": [
              "(314572, 128, 2, 1)"
            ]
          },
          "metadata": {
            "tags": []
          },
          "execution_count": 22
        }
      ]
    },
    {
      "cell_type": "code",
      "metadata": {
        "id": "ig3xNeOyU5Jf",
        "colab_type": "code",
        "colab": {}
      },
      "source": [
        "def create_model():\n",
        "  model = tf.keras.models.Sequential()\n",
        "  model.add(tf.keras.layers.BatchNormalization())\n",
        "  model.add(tf.keras.layers.Conv2D(64, (1, 2), padding='same', activation='elu'))\n",
        "\n",
        "  model.add(tf.keras.layers.Dropout(0.25))\n",
        "\n",
        "  model.add(tf.keras.layers.BatchNormalization())\n",
        "  model.add(tf.keras.layers.Conv2D(128, (1, 2), padding='same', activation='elu'))\n",
        "\n",
        "  model.add(tf.keras.layers.Dropout(0.25))\n",
        "\n",
        "  model.add(tf.keras.layers.BatchNormalization())\n",
        "  model.add(tf.keras.layers.Conv2D(256, (1, 2), padding='same', activation='elu'))\n",
        "\n",
        "  model.add(tf.keras.layers.Dropout(0.25))\n",
        "\n",
        "  model.add(tf.keras.layers.Flatten())\n",
        "  model.add(tf.keras.layers.Dense(256))\n",
        "  model.add(tf.keras.layers.Activation('elu'))\n",
        "  model.add(tf.keras.layers.Dropout(0.5))\n",
        "  model.add(tf.keras.layers.Dense(3))\n",
        "  model.add(tf.keras.layers.Activation('softmax'))\n",
        "  return model"
      ],
      "execution_count": 0,
      "outputs": []
    },
    {
      "cell_type": "code",
      "metadata": {
        "id": "oGOT5fQM83XM",
        "colab_type": "code",
        "outputId": "cee714eb-289b-4a95-f902-9dbf050aa0e4",
        "colab": {
          "base_uri": "https://localhost:8080/",
          "height": 474
        }
      },
      "source": [
        "conv_model=create_model()\n",
        "conv_model.compile(loss='categorical_crossentropy', optimizer='adam', metrics=['accuracy'])\n",
        "# Fit the model\n",
        "history=conv_model.fit(train_x, train_y, validation_data=(valid_x,valid_y), epochs=10)"
      ],
      "execution_count": 24,
      "outputs": [
        {
          "output_type": "stream",
          "text": [
            "WARNING:tensorflow:From /tensorflow-1.15.0/python3.6/tensorflow_core/python/ops/resource_variable_ops.py:1630: calling BaseResourceVariable.__init__ (from tensorflow.python.ops.resource_variable_ops) with constraint is deprecated and will be removed in a future version.\n",
            "Instructions for updating:\n",
            "If using Keras pass *_constraint arguments to layers.\n",
            "Train on 314572 samples, validate on 78644 samples\n",
            "Epoch 1/10\n",
            "314572/314572 [==============================] - 98s 312us/sample - loss: 0.2830 - acc: 0.9060 - val_loss: 0.4849 - val_acc: 0.9432\n",
            "Epoch 2/10\n",
            "314572/314572 [==============================] - 92s 291us/sample - loss: 0.1245 - acc: 0.9715 - val_loss: 0.0347 - val_acc: 0.9961\n",
            "Epoch 3/10\n",
            "314572/314572 [==============================] - 91s 291us/sample - loss: 0.0977 - acc: 0.9797 - val_loss: 0.0224 - val_acc: 0.9969\n",
            "Epoch 4/10\n",
            "314572/314572 [==============================] - 91s 291us/sample - loss: 0.0771 - acc: 0.9851 - val_loss: 0.0255 - val_acc: 0.9952\n",
            "Epoch 5/10\n",
            "314572/314572 [==============================] - 92s 291us/sample - loss: 0.0618 - acc: 0.9881 - val_loss: 0.0166 - val_acc: 0.9988\n",
            "Epoch 6/10\n",
            "314572/314572 [==============================] - 92s 291us/sample - loss: 0.0561 - acc: 0.9894 - val_loss: 0.0103 - val_acc: 0.9992\n",
            "Epoch 7/10\n",
            "314572/314572 [==============================] - 92s 292us/sample - loss: 0.0523 - acc: 0.9907 - val_loss: 0.0179 - val_acc: 0.9958\n",
            "Epoch 8/10\n",
            "314572/314572 [==============================] - 92s 292us/sample - loss: 0.0518 - acc: 0.9907 - val_loss: 0.0398 - val_acc: 0.9888\n",
            "Epoch 9/10\n",
            "314572/314572 [==============================] - 92s 293us/sample - loss: 0.0470 - acc: 0.9914 - val_loss: 0.0182 - val_acc: 0.9990\n",
            "Epoch 10/10\n",
            "314572/314572 [==============================] - 92s 292us/sample - loss: 0.0466 - acc: 0.9919 - val_loss: 0.0290 - val_acc: 0.9926\n"
          ],
          "name": "stdout"
        }
      ]
    },
    {
      "cell_type": "code",
      "metadata": {
        "id": "KxEOV7epgz4U",
        "colab_type": "code",
        "colab": {}
      },
      "source": [
        "from sklearn.utils import shuffle\n",
        "test_x,test_y=shuffle(test_x,test_y)"
      ],
      "execution_count": 0,
      "outputs": []
    },
    {
      "cell_type": "code",
      "metadata": {
        "id": "yxk3pAfbKKAQ",
        "colab_type": "code",
        "outputId": "a99ae07a-3b28-474c-819c-447874648b2b",
        "colab": {
          "base_uri": "https://localhost:8080/",
          "height": 54
        }
      },
      "source": [
        "conv_model.evaluate(test_x,test_y)"
      ],
      "execution_count": 26,
      "outputs": [
        {
          "output_type": "stream",
          "text": [
            "98304/98304 [==============================] - 9s 96us/sample - loss: 0.0578 - acc: 0.9836\n"
          ],
          "name": "stdout"
        },
        {
          "output_type": "execute_result",
          "data": {
            "text/plain": [
              "[0.0577676883965618, 0.98362225]"
            ]
          },
          "metadata": {
            "tags": []
          },
          "execution_count": 26
        }
      ]
    },
    {
      "cell_type": "code",
      "metadata": {
        "id": "jvTe9n6h5ZKr",
        "colab_type": "code",
        "colab": {}
      },
      "source": [
        "import pandas as pd\n",
        "import seaborn as sns\n",
        "import matplotlib.pyplot as plt\n",
        "\n",
        "def print_confusion_matrix(confusion_matrix, class_names, figsize = (5,5), fontsize=14):\n",
        "\n",
        "    df_cm = pd.DataFrame(\n",
        "        confusion_matrix, index=class_names, columns=class_names, \n",
        "    )\n",
        "    fig = plt.figure(figsize=figsize)\n",
        "    try:\n",
        "        heatmap = sns.heatmap(df_cm, annot=True, fmt=\"d\")\n",
        "    except ValueError:\n",
        "        raise ValueError(\"Confusion matrix values must be integers.\")\n",
        "    heatmap.yaxis.set_ticklabels(heatmap.yaxis.get_ticklabels(), rotation=0, ha='right', fontsize=fontsize)\n",
        "    heatmap.xaxis.set_ticklabels(heatmap.xaxis.get_ticklabels(), rotation=45, ha='right', fontsize=fontsize)\n",
        "    plt.ylabel('True label')\n",
        "    plt.xlabel('Predicted label')"
      ],
      "execution_count": 0,
      "outputs": []
    },
    {
      "cell_type": "code",
      "metadata": {
        "id": "cCtggfHUJFz9",
        "colab_type": "code",
        "colab": {}
      },
      "source": [
        "from sklearn.metrics import classification_report, confusion_matrix"
      ],
      "execution_count": 0,
      "outputs": []
    },
    {
      "cell_type": "code",
      "metadata": {
        "id": "WtIiQJk0QF6H",
        "colab_type": "code",
        "colab": {}
      },
      "source": [
        "y_pred=conv_model.predict(test_x)"
      ],
      "execution_count": 0,
      "outputs": []
    },
    {
      "cell_type": "code",
      "metadata": {
        "id": "OEedv-_Yx9uN",
        "colab_type": "code",
        "colab": {}
      },
      "source": [
        "matrix = confusion_matrix(test_y.argmax(axis=1), y_pred.argmax(axis=1))"
      ],
      "execution_count": 0,
      "outputs": []
    },
    {
      "cell_type": "code",
      "metadata": {
        "id": "TxnsfpTTyJBj",
        "colab_type": "code",
        "outputId": "d75391b7-38d7-438e-8f0d-be01c3a4ab98",
        "colab": {
          "base_uri": "https://localhost:8080/",
          "height": 385
        }
      },
      "source": [
        "print(print_confusion_matrix(matrix,['USRP1','USRP2','USRP3']))"
      ],
      "execution_count": 129,
      "outputs": [
        {
          "output_type": "stream",
          "text": [
            "None\n"
          ],
          "name": "stdout"
        },
        {
          "output_type": "display_data",
          "data": {
            "image/png": "[encoded data removed]",
            "text/plain": [
              "<Figure size 360x360 with 2 Axes>"
            ]
          },
          "metadata": {
            "tags": []
          }
        }
      ]
    },
    {
      "cell_type": "code",
      "metadata": {
        "id": "DI8UY_4yCreM",
        "colab_type": "code",
        "colab": {
          "base_uri": "https://localhost:8080/",
          "height": 461
        },
        "outputId": "770ebf14-b723-4027-f5eb-ab71263955cf"
      },
      "source": [
        "target_names='USRP1','USRP2','USRP3'\n",
        "from sklearn.metrics import confusion_matrix\n",
        "import seaborn as sns\n",
        "cm = confusion_matrix(test_y.argmax(axis=1),y_pred.argmax(axis=1))\n",
        "# Normalise\n",
        "cmn = cm.astype('float') / cm.sum(axis=1)[:, np.newaxis]\n",
        "sns.set(font_scale=1.5)\n",
        "fig, ax = plt.subplots(figsize=(9,7))\n",
        "sns.heatmap(cmn, annot=True, fmt='.3f', xticklabels=target_names, yticklabels=target_names)\n",
        "plt.ylabel('Actual')\n",
        "plt.xlabel('Predicted')\n",
        "plt.show(block=False)"
      ],
      "execution_count": 158,
      "outputs": [
        {
          "output_type": "display_data",
          "data": {
            "image/png": "[encoded data removed]",
            "text/plain": [
              "<Figure size 648x504 with 2 Axes>"
            ]
          },
          "metadata": {
            "tags": []
          }
        }
      ]
    },
    {
      "cell_type": "code",
      "metadata": {
        "id": "STa5wgt88Sx7",
        "colab_type": "code",
        "colab": {
          "base_uri": "https://localhost:8080/",
          "height": 199
        },
        "outputId": "754ef97b-71b1-45c5-e827-7601a2eb3b31"
      },
      "source": [
        "from sklearn.metrics import classification_report\n",
        "\n",
        "print(classification_report(test_y.argmax(axis=1), y_pred.argmax(axis=1), target_names=target_names))"
      ],
      "execution_count": 155,
      "outputs": [
        {
          "output_type": "stream",
          "text": [
            "              precision    recall  f1-score   support\n",
            "\n",
            "       USRP1       0.96      1.00      0.98     32768\n",
            "       USRP2       1.00      1.00      1.00     32768\n",
            "       USRP3       1.00      0.95      0.98     32768\n",
            "\n",
            "    accuracy                           0.98     98304\n",
            "   macro avg       0.98      0.98      0.98     98304\n",
            "weighted avg       0.98      0.98      0.98     98304\n",
            "\n"
          ],
          "name": "stdout"
        }
      ]
    },
    {
      "cell_type": "code",
      "metadata": {
        "id": "HA7kMeUey1ES",
        "colab_type": "code",
        "colab": {
          "base_uri": "https://localhost:8080/",
          "height": 573
        },
        "outputId": "9f55b7d1-0e0f-4901-daa3-9228fcd4a8b5"
      },
      "source": [
        "import matplotlib.pyplot as plt\n",
        "plt.plot(history.history['acc'])\n",
        "plt.plot(history.history['val_acc'])\n",
        "plt.title('Model accuracy')\n",
        "plt.ylabel('Accuracy')\n",
        "plt.xlabel('Epoch')\n",
        "plt.legend(['Train', 'validation'], loc='bottom right')\n",
        "plt.figure(figsize=(50,10))\n",
        "plt.show()"
      ],
      "execution_count": 164,
      "outputs": [
        {
          "output_type": "stream",
          "text": [
            "/usr/local/lib/python3.6/dist-packages/ipykernel_launcher.py:7: MatplotlibDeprecationWarning: Unrecognized location 'bottom right'. Falling back on 'best'; valid locations are\n",
            "\tbest\n",
            "\tupper right\n",
            "\tupper left\n",
            "\tlower left\n",
            "\tlower right\n",
            "\tright\n",
            "\tcenter left\n",
            "\tcenter right\n",
            "\tlower center\n",
            "\tupper center\n",
            "\tcenter\n",
            "This will raise an exception in 3.3.\n",
            "  import sys\n"
          ],
          "name": "stderr"
        },
        {
          "output_type": "display_data",
          "data": {
            "image/png": "[encoded data removed]",
            "text/plain": [
              "<Figure size 432x288 with 1 Axes>"
            ]
          },
          "metadata": {
            "tags": []
          }
        },
        {
          "output_type": "display_data",
          "data": {
            "text/plain": [
              "<Figure size 3600x720 with 0 Axes>"
            ]
          },
          "metadata": {
            "tags": []
          }
        }
      ]
    },
    {
      "cell_type": "code",
      "metadata": {
        "id": "7ryXR_iE1EYN",
        "colab_type": "code",
        "colab": {
          "base_uri": "https://localhost:8080/",
          "height": 565
        },
        "outputId": "965dce4e-5fe2-41bb-fdea-a41c0cfe066f"
      },
      "source": [
        "img=usrp4_train[2*1024:3*1024]   #[:1024] [1024:2*1024]  [2*1024:3*1024]\n",
        "img=np.sqrt(np.power(img[:,0],2)+np.power(img[:,1],2))\n",
        "img=img.reshape(32,32)\n",
        "from matplotlib import pyplot as plt\n",
        "plt.imshow(img)\n",
        "plt.gray()\n",
        "plt.show()\n",
        "plt.hist(img)\n",
        "plt.show()\n",
        "df=pd.DataFrame(img.flatten())\n",
        "print('\\033[1m\\tStdv={}'.format(df.std().to_string(index=False)))\n",
        "print('\\tMean={}'.format(df.mean().to_string(index=False)))\n",
        "print('\\tVariance={}'.format(df.var().to_string(index=False)))\n"
      ],
      "execution_count": 118,
      "outputs": [
        {
          "output_type": "display_data",
          "data": {
            "image/png": "[encoded data removed]",
            "text/plain": [
              "<Figure size 432x288 with 1 Axes>"
            ]
          },
          "metadata": {
            "tags": []
          }
        },
        {
          "output_type": "display_data",
          "data": {
            "image/png": "[encoded data removed]",
            "text/plain": [
              "<Figure size 432x288 with 1 Axes>"
            ]
          },
          "metadata": {
            "tags": []
          }
        },
        {
          "output_type": "stream",
          "text": [
            "\u001b[1m\tStdv= 0.009258\n",
            "\tMean= 0.971255\n",
            "\tVariance= 0.000086\n"
          ],
          "name": "stdout"
        }
      ]
    },
    {
      "cell_type": "markdown",
      "metadata": {
        "id": "ibXPBKF2H2NM",
        "colab_type": "text"
      },
      "source": [
        ""
      ]
    },
    {
      "cell_type": "code",
      "metadata": {
        "id": "jzujXyj6asKd",
        "colab_type": "code",
        "colab": {
          "base_uri": "https://localhost:8080/",
          "height": 339
        },
        "outputId": "d04d5050-4859-4459-cf9d-c20ed4086808"
      },
      "source": [
        ""
      ],
      "execution_count": 156,
      "outputs": [
        {
          "output_type": "display_data",
          "data": {
            "image/png": "[encoded data removed]",
            "text/plain": [
              "<Figure size 504x360 with 2 Axes>"
            ]
          },
          "metadata": {
            "tags": []
          }
        }
      ]
    },
    {
      "cell_type": "code",
      "metadata": {
        "id": "t2h2__f77R8P",
        "colab_type": "code",
        "colab": {}
      },
      "source": [
        "while True:\n",
        "  pass"
      ],
      "execution_count": 0,
      "outputs": []
    },
    {
      "cell_type": "code",
      "metadata": {
        "id": "t4vpVnE3FQLB",
        "colab_type": "code",
        "colab": {}
      },
      "source": [
        ""
      ],
      "execution_count": 0,
      "outputs": []
    }
  ]
}