{
  "nbformat": 4,
  "nbformat_minor": 0,
  "metadata": {
    "colab": {
      "name": "Copy of Classify_different_antennas_900_245.ipynb",
      "provenance": [],
      "toc_visible": true,
      "machine_shape": "hm",
      "mount_file_id": "https://github.com/Saeif-Saleh/AppPortfolio/blob/master/Copy_of_Classify_different_antennas_900_245_improved.ipynb",
      "authorship_tag": "ABX9TyNOOzB/An6HFRzWHBg3/vSQ",
      "include_colab_link": true
    },
    "kernelspec": {
      "name": "python3",
      "display_name": "Python 3"
    },
    "accelerator": "GPU"
  },
  "cells": [
    {
      "cell_type": "markdown",
      "metadata": {
        "id": "view-in-github",
        "colab_type": "text"
      },
      "source": [
        "<a href=\"https://colab.research.google.com/github/Saeif-Saleh/Banking-System/blob/master/Copy_of_Classify_different_antennas_900_245_improved.ipynb\" target=\"_parent\"><img src=\"https://colab.research.google.com/assets/colab-badge.svg\" alt=\"Open In Colab\"/></a>"
      ]
    },
    {
      "cell_type": "code",
      "metadata": {
        "id": "Rggh1H0Ok922",
        "colab_type": "code",
        "outputId": "0b85265e-eeb3-4b22-ce63-0a1b3abc47f6",
        "colab": {
          "base_uri": "https://localhost:8080/",
          "height": 306
        }
      },
      "source": [
        "!nvidia-smi\n",
        "# !pip install --upgrade tensorflow\n"
      ],
      "execution_count": 1,
      "outputs": [
        {
          "output_type": "stream",
          "text": [
            "Tue Mar 24 03:56:55 2020       \n",
            "+-----------------------------------------------------------------------------+\n",
            "| NVIDIA-SMI 440.64.00    Driver Version: 418.67       CUDA Version: 10.1     |\n",
            "|-------------------------------+----------------------+----------------------+\n",
            "| GPU  Name        Persistence-M| Bus-Id        Disp.A | Volatile Uncorr. ECC |\n",
            "| Fan  Temp  Perf  Pwr:Usage/Cap|         Memory-Usage | GPU-Util  Compute M. |\n",
            "|===============================+======================+======================|\n",
            "|   0  Tesla P100-PCIE...  Off  | 00000000:00:04.0 Off |                    0 |\n",
            "| N/A   41C    P0    29W / 250W |      0MiB / 16280MiB |      0%      Default |\n",
            "+-------------------------------+----------------------+----------------------+\n",
            "                                                                               \n",
            "+-----------------------------------------------------------------------------+\n",
            "| Processes:                                                       GPU Memory |\n",
            "|  GPU       PID   Type   Process name                             Usage      |\n",
            "|=============================================================================|\n",
            "|  No running processes found                                                 |\n",
            "+-----------------------------------------------------------------------------+\n"
          ],
          "name": "stdout"
        }
      ]
    },
    {
      "cell_type": "code",
      "metadata": {
        "id": "4mLiQr6FlwAw",
        "colab_type": "code",
        "colab": {}
      },
      "source": [
        "import scipy.io\n",
        "import numpy as np"
      ],
      "execution_count": 0,
      "outputs": []
    },
    {
      "cell_type": "code",
      "metadata": {
        "id": "wjJErQpGl2dh",
        "colab_type": "code",
        "colab": {}
      },
      "source": [
        "matlab_data=scipy.io.loadmat('/content/drive/My Drive/thesis_data/R900_245_4.mat')"
      ],
      "execution_count": 0,
      "outputs": []
    },
    {
      "cell_type": "code",
      "metadata": {
        "id": "t5zXRcErl-lg",
        "colab_type": "code",
        "outputId": "8be8ac36-83f2-4140-d448-494075319b2f",
        "colab": {
          "base_uri": "https://localhost:8080/",
          "height": 34
        }
      },
      "source": [
        "print(list(matlab_data.keys())[3:])"
      ],
      "execution_count": 7,
      "outputs": [
        {
          "output_type": "stream",
          "text": [
            "['R900_T2450_test', 'R900_T2450_train', 'R900_T500_test', 'R900_T500_train', 'R900_T900_test', 'R900_T900_train', 'R900_lime_test', 'R900_lime_train']\n"
          ],
          "name": "stdout"
        }
      ]
    },
    {
      "cell_type": "code",
      "metadata": {
        "id": "ErDxJVc_mCX-",
        "colab_type": "code",
        "colab": {}
      },
      "source": [
        "train_900=matlab_data['R900_T900_train']\n",
        "train_2450=matlab_data['R900_T2450_train']\n",
        "train_500=matlab_data['R900_T500_train']\n"
      ],
      "execution_count": 0,
      "outputs": []
    },
    {
      "cell_type": "code",
      "metadata": {
        "id": "gtybbgZsn-VF",
        "colab_type": "code",
        "outputId": "66315a11-8f39-4b36-d69c-136e9bf0962f",
        "colab": {
          "base_uri": "https://localhost:8080/",
          "height": 68
        }
      },
      "source": [
        "print(train_900.shape)\n",
        "print(train_2450.shape)\n",
        "print(train_500.shape)"
      ],
      "execution_count": 9,
      "outputs": [
        {
          "output_type": "stream",
          "text": [
            "(79094137, 2)\n",
            "(78204989, 2)\n",
            "(80362202, 2)\n"
          ],
          "name": "stdout"
        }
      ]
    },
    {
      "cell_type": "code",
      "metadata": {
        "id": "FkcmqluJoOaS",
        "colab_type": "code",
        "colab": {}
      },
      "source": [
        "# test_900=matlab_data['R900_T900_test']\n",
        "# test_2450=matlab_data['R900_T2450_test']\n",
        "# test_500=matlab_data['R900_T500_test']\n"
      ],
      "execution_count": 0,
      "outputs": []
    },
    {
      "cell_type": "code",
      "metadata": {
        "id": "oGlulEazoYhh",
        "colab_type": "code",
        "colab": {}
      },
      "source": [
        "# print(test_900.shape)\n",
        "# print(test_2450.shape)\n",
        "# print(test_500.shape)"
      ],
      "execution_count": 0,
      "outputs": []
    },
    {
      "cell_type": "code",
      "metadata": {
        "id": "F1Kr_u8u0v8n",
        "colab_type": "code",
        "outputId": "d7dfea4e-33bd-437d-8e8e-ef45ca1b7272",
        "colab": {
          "base_uri": "https://localhost:8080/",
          "height": 68
        }
      },
      "source": [
        "print(train_900.shape)\n",
        "print(train_2450.shape)\n",
        "print(train_500.shape)"
      ],
      "execution_count": 10,
      "outputs": [
        {
          "output_type": "stream",
          "text": [
            "(79094137, 2)\n",
            "(78204989, 2)\n",
            "(80362202, 2)\n"
          ],
          "name": "stdout"
        }
      ]
    },
    {
      "cell_type": "code",
      "metadata": {
        "id": "QpzINBYLofEo",
        "colab_type": "code",
        "colab": {}
      },
      "source": [
        "#Slicing data to be divisible by 2**n \n",
        "# train_900=train_900[1000000:5194304]\n",
        "# train_2450=train_2450[1000000:5194304]\n",
        "# train_500=train_500[1000000:5194304]\n",
        "\n",
        "train_900=train_900[:41943040]\n",
        "train_2450=train_2450[:41943040]\n",
        "train_500=train_500[:41943040]\n",
        "\n",
        "\n",
        "\n"
      ],
      "execution_count": 0,
      "outputs": []
    },
    {
      "cell_type": "code",
      "metadata": {
        "id": "HjLFd5czapbI",
        "colab_type": "code",
        "colab": {}
      },
      "source": [
        "# test_900=test_900[1000000:9388608]\n",
        "# test_2450=test_2450[1000000:9388608]\n",
        "# test_500=test_500[1000000:9388608]\n",
        "\n"
      ],
      "execution_count": 0,
      "outputs": []
    },
    {
      "cell_type": "code",
      "metadata": {
        "id": "G1Lrao2pr88f",
        "colab_type": "code",
        "colab": {}
      },
      "source": [
        "from google.colab import drive\n",
        "drive.mount('/content/drive')"
      ],
      "execution_count": 0,
      "outputs": []
    },
    {
      "cell_type": "code",
      "metadata": {
        "id": "X1IOmmriGZFx",
        "colab_type": "code",
        "colab": {}
      },
      "source": [
        ""
      ],
      "execution_count": 0,
      "outputs": []
    },
    {
      "cell_type": "code",
      "metadata": {
        "id": "4fLypDHWqf0W",
        "colab_type": "code",
        "outputId": "d9f55e3f-a39e-4bdb-f403-4930b98dd4e7",
        "colab": {
          "base_uri": "https://localhost:8080/",
          "height": 34
        }
      },
      "source": [
        "#Concatenate training and test data\n",
        "train_x=np.concatenate((train_900,train_2450,train_500),axis=0)\n",
        "# test_x=np.concatenate((test_900,test_2450,test_500),axis=0)\n",
        "print(train_x.shape)\n",
        "# print(test_x.shape)\n"
      ],
      "execution_count": 12,
      "outputs": [
        {
          "output_type": "stream",
          "text": [
            "(125829120, 2)\n"
          ],
          "name": "stdout"
        }
      ]
    },
    {
      "cell_type": "code",
      "metadata": {
        "id": "Y_fu6zdXpVX5",
        "colab_type": "code",
        "colab": {
          "base_uri": "https://localhost:8080/",
          "height": 80
        },
        "outputId": "7c5d1a6b-ee16-43e5-bdc7-62f96d5f2b5c"
      },
      "source": [
        "import tensorflow as tf\n",
        "from tensorflow import keras\n",
        "from tensorflow.keras import layers\n",
        "from keras import regularizers"
      ],
      "execution_count": 13,
      "outputs": [
        {
          "output_type": "display_data",
          "data": {
            "text/html": [
              "<p style=\"color: red;\">\n",
              "The default version of TensorFlow in Colab will soon switch to TensorFlow 2.x.<br>\n",
              "We recommend you <a href=\"https://www.tensorflow.org/guide/migrate\" target=\"_blank\">upgrade</a> now \n",
              "or ensure your notebook will continue to use TensorFlow 1.x via the <code>%tensorflow_version 1.x</code> magic:\n",
              "<a href=\"https://colab.research.google.com/notebooks/tensorflow_version.ipynb\" target=\"_blank\">more info</a>.</p>\n"
            ],
            "text/plain": [
              "<IPython.core.display.HTML object>"
            ]
          },
          "metadata": {
            "tags": []
          }
        },
        {
          "output_type": "stream",
          "text": [
            "Using TensorFlow backend.\n"
          ],
          "name": "stderr"
        }
      ]
    },
    {
      "cell_type": "code",
      "metadata": {
        "id": "oThxJdsGsOav",
        "colab_type": "code",
        "colab": {}
      },
      "source": [
        "n_classes=3\n",
        "sample_size=128"
      ],
      "execution_count": 0,
      "outputs": []
    },
    {
      "cell_type": "code",
      "metadata": {
        "id": "xWUqsrhqsCdT",
        "colab_type": "code",
        "colab": {}
      },
      "source": [
        "train_x=train_x.reshape(-1,2,sample_size)\n",
        "# test_x=test_x.reshape(-1,2,sample_size)"
      ],
      "execution_count": 0,
      "outputs": []
    },
    {
      "cell_type": "code",
      "metadata": {
        "id": "M3oOMomesUjH",
        "colab_type": "code",
        "colab": {}
      },
      "source": [
        "#Creating train_y\n",
        "train_y=np.zeros(len(train_x))\n",
        "seprator=int(len(train_y)/n_classes)\n",
        "train_y[0:seprator]=0\n",
        "train_y[seprator:2*seprator]=1\n",
        "train_y[2*seprator:3*seprator]=2\n",
        "# train_y[3*seprator:]=3\n",
        "#Creating test_y\n",
        "# test_y=np.zeros(len(test_x))\n",
        "# seprator=int(len(test_y)/n_classes)\n",
        "# test_y[0:seprator]=0\n",
        "# test_y[seprator:2*seprator]=1\n",
        "# test_y[2*seprator:3*seprator]=2\n",
        "# # test_y[3*seprator:]=3\n"
      ],
      "execution_count": 0,
      "outputs": []
    },
    {
      "cell_type": "code",
      "metadata": {
        "id": "5PyB6URgsavB",
        "colab_type": "code",
        "colab": {}
      },
      "source": [
        "train_y=tf.keras.utils.to_categorical(\n",
        "    train_y,\n",
        "    num_classes=n_classes,\n",
        "    dtype='float32'\n",
        ")\n",
        "# test_y=tf.keras.utils.to_categorical(\n",
        "#     test_y,\n",
        "#     num_classes=n_classes,\n",
        "#     dtype='float32'\n",
        "# )"
      ],
      "execution_count": 0,
      "outputs": []
    },
    {
      "cell_type": "code",
      "metadata": {
        "id": "5X5zkY54oleA",
        "colab_type": "code",
        "outputId": "c71b17a5-47ae-48b8-d342-4542d0b14394",
        "colab": {
          "base_uri": "https://localhost:8080/",
          "height": 51
        }
      },
      "source": [
        "print(train_x.shape)\n",
        "print(train_y.shape)"
      ],
      "execution_count": 18,
      "outputs": [
        {
          "output_type": "stream",
          "text": [
            "(983040, 2, 128)\n",
            "(983040, 3)\n"
          ],
          "name": "stdout"
        }
      ]
    },
    {
      "cell_type": "code",
      "metadata": {
        "id": "y4T7ZE2lsdfw",
        "colab_type": "code",
        "colab": {}
      },
      "source": [
        "img_rows=sample_size\n",
        "img_cols=2\n",
        "train_x = train_x.reshape(-1, img_rows, img_cols, 1)\n",
        "# test_x=test_x.reshape(-1,img_rows,img_cols,1)\n",
        "input_shape = (img_rows, img_cols, 1)"
      ],
      "execution_count": 0,
      "outputs": []
    },
    {
      "cell_type": "code",
      "metadata": {
        "id": "wF8JqJule3QZ",
        "colab_type": "code",
        "outputId": "50e2f0eb-72cb-4ce8-c317-2d133ef5b245",
        "colab": {
          "base_uri": "https://localhost:8080/",
          "height": 68
        }
      },
      "source": [
        "print(input_shape)\n",
        "print(train_x.shape)\n",
        "print(train_y.shape)"
      ],
      "execution_count": 20,
      "outputs": [
        {
          "output_type": "stream",
          "text": [
            "(128, 2, 1)\n",
            "(983040, 128, 2, 1)\n",
            "(983040, 3)\n"
          ],
          "name": "stdout"
        }
      ]
    },
    {
      "cell_type": "code",
      "metadata": {
        "id": "BrchRLVFaL8V",
        "colab_type": "code",
        "colab": {}
      },
      "source": [
        "from sklearn.model_selection import train_test_split\n",
        "train_x, test_x, train_y, test_y = train_test_split(train_x, train_y, test_size=0.25, shuffle= True)"
      ],
      "execution_count": 0,
      "outputs": []
    },
    {
      "cell_type": "code",
      "metadata": {
        "id": "Ghu6plYElUTd",
        "colab_type": "code",
        "colab": {}
      },
      "source": [
        "train_x, valid_x, train_y,valid_y = train_test_split(train_x, train_y, test_size=0.20, shuffle= True)"
      ],
      "execution_count": 0,
      "outputs": []
    },
    {
      "cell_type": "code",
      "metadata": {
        "id": "3oJDu4amX-O9",
        "colab_type": "code",
        "colab": {}
      },
      "source": [
        "def create_model():\n",
        "  model = tf.keras.models.Sequential()\n",
        "  model.add(tf.keras.layers.BatchNormalization())\n",
        "  model.add(tf.keras.layers.Conv2D(64, (1, 2), padding='same', activation='elu'))\n",
        "\n",
        "  model.add(tf.keras.layers.Dropout(0.25))\n",
        "\n",
        "  model.add(tf.keras.layers.BatchNormalization())\n",
        "  model.add(tf.keras.layers.Conv2D(128, (1, 2), padding='same', activation='elu'))\n",
        "\n",
        "  model.add(tf.keras.layers.Dropout(0.25))\n",
        "\n",
        "  model.add(tf.keras.layers.BatchNormalization())\n",
        "  model.add(tf.keras.layers.Conv2D(256, (1, 2), padding='same', activation='elu'))\n",
        "\n",
        "  model.add(tf.keras.layers.Dropout(0.25))\n",
        "  model.add(tf.keras.layers.BatchNormalization())\n",
        "\n",
        "  model.add(tf.keras.layers.Flatten())\n",
        "  model.add(tf.keras.layers.Dense(256))\n",
        "  model.add(tf.keras.layers.Activation('elu'))\n",
        "  model.add(tf.keras.layers.Dropout(0.5))\n",
        "  model.add(tf.keras.layers.Dense(3))\n",
        "  model.add(tf.keras.layers.Activation('softmax'))\n",
        "  return model"
      ],
      "execution_count": 0,
      "outputs": []
    },
    {
      "cell_type": "code",
      "metadata": {
        "id": "aptEWkYSsnqB",
        "colab_type": "code",
        "outputId": "8220bd25-0e80-4c40-c67a-1431c2c1fd47",
        "colab": {
          "base_uri": "https://localhost:8080/",
          "height": 445
        }
      },
      "source": [
        "\n",
        "conv_model=create_model()\n",
        "conv_model.compile(loss='categorical_crossentropy', optimizer='adam', metrics=['accuracy'])\n",
        "# Fit the model\n",
        "history=conv_model.fit(train_x, train_y, validation_data=(valid_x,valid_y), epochs=10)"
      ],
      "execution_count": 24,
      "outputs": [
        {
          "output_type": "stream",
          "text": [
            "WARNING:tensorflow:From /tensorflow-1.15.0/python3.6/tensorflow_core/python/ops/resource_variable_ops.py:1630: calling BaseResourceVariable.__init__ (from tensorflow.python.ops.resource_variable_ops) with constraint is deprecated and will be removed in a future version.\n",
            "Instructions for updating:\n",
            "If using Keras pass *_constraint arguments to layers.\n",
            "Train on 589824 samples, validate on 147456 samples\n",
            "Epoch 1/10\n",
            "589824/589824 [==============================] - 190s 323us/sample - loss: 0.4890 - acc: 0.7630 - val_loss: 0.4413 - val_acc: 0.8785\n",
            "Epoch 2/10\n",
            "589824/589824 [==============================] - 183s 310us/sample - loss: 0.2932 - acc: 0.8599 - val_loss: 0.5010 - val_acc: 0.8987\n",
            "Epoch 3/10\n",
            "589824/589824 [==============================] - 182s 309us/sample - loss: 0.2333 - acc: 0.8943 - val_loss: 0.9018 - val_acc: 0.9268\n",
            "Epoch 4/10\n",
            "589824/589824 [==============================] - 183s 310us/sample - loss: 0.2034 - acc: 0.9099 - val_loss: 0.4452 - val_acc: 0.9028\n",
            "Epoch 5/10\n",
            "589824/589824 [==============================] - 183s 310us/sample - loss: 0.1808 - acc: 0.9199 - val_loss: 0.1603 - val_acc: 0.9287\n",
            "Epoch 6/10\n",
            "589824/589824 [==============================] - 183s 310us/sample - loss: 0.1631 - acc: 0.9290 - val_loss: 0.2066 - val_acc: 0.9308\n",
            "Epoch 7/10\n",
            "589824/589824 [==============================] - 183s 310us/sample - loss: 0.1541 - acc: 0.9334 - val_loss: 0.1715 - val_acc: 0.9416\n",
            "Epoch 8/10\n",
            "589824/589824 [==============================] - 182s 308us/sample - loss: 0.1482 - acc: 0.9369 - val_loss: 0.2603 - val_acc: 0.9363\n",
            "Epoch 9/10\n",
            "589824/589824 [==============================] - 183s 311us/sample - loss: 0.1424 - acc: 0.9394 - val_loss: 0.1836 - val_acc: 0.9382\n",
            "Epoch 10/10\n",
            "589824/589824 [==============================] - 184s 313us/sample - loss: 0.1403 - acc: 0.9403 - val_loss: 0.2487 - val_acc: 0.9399\n"
          ],
          "name": "stdout"
        }
      ]
    },
    {
      "cell_type": "code",
      "metadata": {
        "id": "DaCqX_KSP-uM",
        "colab_type": "code",
        "outputId": "ddbb5ec9-037a-4981-9c31-e678896a2acb",
        "colab": {
          "base_uri": "https://localhost:8080/",
          "height": 573
        }
      },
      "source": [
        "import matplotlib.pyplot as plt\n",
        "plt.plot(history.history['acc'])\n",
        "# plt.plot(history.history['val_acc'])\n",
        "plt.title('Model accuracy')\n",
        "plt.ylabel('Accuracy')\n",
        "plt.xlabel('Epoch')\n",
        "plt.legend(['Train'], loc='bottom right')\n",
        "plt.figure(figsize=(50,10))\n",
        "plt.show()"
      ],
      "execution_count": 33,
      "outputs": [
        {
          "output_type": "stream",
          "text": [
            "/usr/local/lib/python3.6/dist-packages/ipykernel_launcher.py:7: MatplotlibDeprecationWarning: Unrecognized location 'bottom right'. Falling back on 'best'; valid locations are\n",
            "\tbest\n",
            "\tupper right\n",
            "\tupper left\n",
            "\tlower left\n",
            "\tlower right\n",
            "\tright\n",
            "\tcenter left\n",
            "\tcenter right\n",
            "\tlower center\n",
            "\tupper center\n",
            "\tcenter\n",
            "This will raise an exception in 3.3.\n",
            "  import sys\n"
          ],
          "name": "stderr"
        },
        {
          "output_type": "display_data",
          "data": {
            "image/png": "[encoded data removed]",
            "text/plain": [
              "<Figure size 432x288 with 1 Axes>"
            ]
          },
          "metadata": {
            "tags": []
          }
        },
        {
          "output_type": "display_data",
          "data": {
            "text/plain": [
              "<Figure size 3600x720 with 0 Axes>"
            ]
          },
          "metadata": {
            "tags": []
          }
        }
      ]
    },
    {
      "cell_type": "code",
      "metadata": {
        "id": "IM1nuzQZjGo-",
        "colab_type": "code",
        "outputId": "0351867e-30da-4f5a-8892-c061034684b9",
        "colab": {
          "base_uri": "https://localhost:8080/",
          "height": 295
        }
      },
      "source": [
        "# Plot training & validation loss values\n",
        "plt.plot(history.history['loss'])\n",
        "plt.plot(history.history['val_loss'])\n",
        "plt.title('Model loss')\n",
        "plt.ylabel('Loss')\n",
        "plt.xlabel('Epoch')\n",
        "plt.legend(['Train', 'Test'], loc='upper left')\n",
        "plt.show()"
      ],
      "execution_count": 0,
      "outputs": [
        {
          "output_type": "display_data",
          "data": {
            "image/png": "[encoded data removed]",
            "text/plain": [
              "<Figure size 432x288 with 1 Axes>"
            ]
          },
          "metadata": {
            "tags": []
          }
        }
      ]
    },
    {
      "cell_type": "code",
      "metadata": {
        "id": "8W-fL22VmKXG",
        "colab_type": "code",
        "colab": {}
      },
      "source": [
        "from sklearn.metrics import classification_report, confusion_matrix\n"
      ],
      "execution_count": 0,
      "outputs": []
    },
    {
      "cell_type": "code",
      "metadata": {
        "id": "YITgVi40MX5t",
        "colab_type": "code",
        "outputId": "afc63ddd-8340-4a40-ff7b-d8ff2f0a0743",
        "colab": {
          "base_uri": "https://localhost:8080/",
          "height": 51
        }
      },
      "source": [
        "conv_model.evaluate(test_x,test_y)"
      ],
      "execution_count": 26,
      "outputs": [
        {
          "output_type": "stream",
          "text": [
            "245760/245760 [==============================] - 25s 103us/sample - loss: 0.2493 - acc: 0.9401\n"
          ],
          "name": "stdout"
        },
        {
          "output_type": "execute_result",
          "data": {
            "text/plain": [
              "[0.24929462231869667, 0.94007164]"
            ]
          },
          "metadata": {
            "tags": []
          },
          "execution_count": 26
        }
      ]
    },
    {
      "cell_type": "code",
      "metadata": {
        "id": "DgSJbaDiw0ql",
        "colab_type": "code",
        "colab": {}
      },
      "source": [
        "import pandas as pd\n",
        "import seaborn as sns\n",
        "from matplotlib import pyplot as plt\n",
        "def print_confusion_matrix(confusion_matrix, class_names, figsize = (10,7), fontsize=14):\n",
        "\n",
        "    df_cm = pd.DataFrame(\n",
        "        confusion_matrix, index=class_names, columns=class_names, \n",
        "    )\n",
        "    fig = plt.figure(figsize=figsize)\n",
        "    try:\n",
        "        heatmap = sns.heatmap(df_cm, annot=True, fmt=\"d\")\n",
        "    except ValueError:\n",
        "        raise ValueError(\"Confusion matrix values must be integers.\")\n",
        "    heatmap.yaxis.set_ticklabels(heatmap.yaxis.get_ticklabels(), rotation=0, ha='right', fontsize=fontsize)\n",
        "    heatmap.xaxis.set_ticklabels(heatmap.xaxis.get_ticklabels(), rotation=45, ha='right', fontsize=fontsize)\n",
        "    plt.ylabel('True label')\n",
        "    plt.xlabel('Predicted label')\n",
        "    return fig"
      ],
      "execution_count": 0,
      "outputs": []
    },
    {
      "cell_type": "code",
      "metadata": {
        "id": "35tESca0tJkg",
        "colab_type": "code",
        "colab": {}
      },
      "source": [
        "y_pred=conv_model.predict(test_x)"
      ],
      "execution_count": 0,
      "outputs": []
    },
    {
      "cell_type": "code",
      "metadata": {
        "id": "kZm4r32mCLKb",
        "colab_type": "code",
        "colab": {}
      },
      "source": [
        "matrix = confusion_matrix(test_y.argmax(axis=1), y_pred.argmax(axis=1))\n"
      ],
      "execution_count": 0,
      "outputs": []
    },
    {
      "cell_type": "code",
      "metadata": {
        "id": "Crh7S1oZbzgH",
        "colab_type": "code",
        "outputId": "c029648f-5693-4115-c9c9-6fb4156f085d",
        "colab": {
          "base_uri": "https://localhost:8080/",
          "height": 510
        }
      },
      "source": [
        "print(print_confusion_matrix(matrix,['VERT900','VERT2450','ANT500']))"
      ],
      "execution_count": 30,
      "outputs": [
        {
          "output_type": "stream",
          "text": [
            "Figure(720x504)\n"
          ],
          "name": "stdout"
        },
        {
          "output_type": "display_data",
          "data": {
            "image/png": "[encoded data removed]",
            "text/plain": [
              "<Figure size 720x504 with 2 Axes>"
            ]
          },
          "metadata": {
            "tags": []
          }
        }
      ]
    },
    {
      "cell_type": "code",
      "metadata": {
        "id": "KBsSP6nH4dI_",
        "colab_type": "code",
        "colab": {
          "base_uri": "https://localhost:8080/",
          "height": 461
        },
        "outputId": "439f8172-06ee-4616-95a1-4b664af3c86b"
      },
      "source": [
        "target_names='VERT900','VERT2450','ANT500'\n",
        "from sklearn.metrics import confusion_matrix\n",
        "import seaborn as sns\n",
        "cm = confusion_matrix(test_y.argmax(axis=1),y_pred.argmax(axis=1))\n",
        "# Normalise\n",
        "cmn = cm.astype('float') / cm.sum(axis=1)[:, np.newaxis]\n",
        "sns.set(font_scale=1.5)\n",
        "fig, ax = plt.subplots(figsize=(9,7))\n",
        "sns.heatmap(cmn, annot=True, fmt='.3f', xticklabels=target_names, yticklabels=target_names)\n",
        "plt.ylabel('Actual')\n",
        "plt.xlabel('Predicted')\n",
        "plt.show(block=False)"
      ],
      "execution_count": 31,
      "outputs": [
        {
          "output_type": "display_data",
          "data": {
            "image/png": "[encoded data removed]",
            "text/plain": [
              "<Figure size 648x504 with 2 Axes>"
            ]
          },
          "metadata": {
            "tags": []
          }
        }
      ]
    },
    {
      "cell_type": "code",
      "metadata": {
        "id": "uKSylh6DtEMl",
        "colab_type": "code",
        "colab": {
          "base_uri": "https://localhost:8080/",
          "height": 187
        },
        "outputId": "e3646e5f-49e1-4448-81ed-dc2939a01956"
      },
      "source": [
        "from sklearn.metrics import classification_report\n",
        "\n",
        "print('\\033[1m'+classification_report(test_y.argmax(axis=1), y_pred.argmax(axis=1), target_names=target_names))"
      ],
      "execution_count": 32,
      "outputs": [
        {
          "output_type": "stream",
          "text": [
            "\u001b[1m              precision    recall  f1-score   support\n",
            "\n",
            "     VERT900       0.98      0.84      0.90     81819\n",
            "    VERT2450       0.86      0.99      0.92     81681\n",
            "      ANT500       1.00      0.99      0.99     82260\n",
            "\n",
            "    accuracy                           0.94    245760\n",
            "   macro avg       0.95      0.94      0.94    245760\n",
            "weighted avg       0.95      0.94      0.94    245760\n",
            "\n"
          ],
          "name": "stdout"
        }
      ]
    },
    {
      "cell_type": "code",
      "metadata": {
        "id": "FUZmCAsVu2oV",
        "colab_type": "code",
        "colab": {}
      },
      "source": [
        ""
      ],
      "execution_count": 0,
      "outputs": []
    }
  ]
}