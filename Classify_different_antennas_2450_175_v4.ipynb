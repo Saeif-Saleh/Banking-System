{
  "nbformat": 4,
  "nbformat_minor": 0,
  "metadata": {
    "colab": {
      "name": "Classify_different_antennas_2450_175_v4.ipynb",
      "provenance": [],
      "toc_visible": true,
      "machine_shape": "hm",
      "mount_file_id": "https://github.com/Saeif-Saleh/AppPortfolio/blob/master/Classify_different_antennas_2450_175_v4.ipynb",
      "authorship_tag": "ABX9TyOcHLZFxv4TV1DonJYZFJZ6",
      "include_colab_link": true
    },
    "kernelspec": {
      "name": "python3",
      "display_name": "Python 3"
    },
    "accelerator": "GPU"
  },
  "cells": [
    {
      "cell_type": "markdown",
      "metadata": {
        "id": "view-in-github",
        "colab_type": "text"
      },
      "source": [
        "<a href=\"https://colab.research.google.com/github/Saeif-Saleh/Banking-System/blob/master/Classify_different_antennas_2450_175_v4.ipynb\" target=\"_parent\"><img src=\"https://colab.research.google.com/assets/colab-badge.svg\" alt=\"Open In Colab\"/></a>"
      ]
    },
    {
      "cell_type": "code",
      "metadata": {
        "id": "Rggh1H0Ok922",
        "colab_type": "code",
        "outputId": "d65fb133-e75d-47d2-b8c1-4b716605c88a",
        "colab": {
          "base_uri": "https://localhost:8080/",
          "height": 306
        }
      },
      "source": [
        "!nvidia-smi\n",
        "# !pip install --upgrade tensorflow\n"
      ],
      "execution_count": 6,
      "outputs": [
        {
          "output_type": "stream",
          "text": [
            "Tue Mar 24 15:18:10 2020       \n",
            "+-----------------------------------------------------------------------------+\n",
            "| NVIDIA-SMI 440.64.00    Driver Version: 418.67       CUDA Version: 10.1     |\n",
            "|-------------------------------+----------------------+----------------------+\n",
            "| GPU  Name        Persistence-M| Bus-Id        Disp.A | Volatile Uncorr. ECC |\n",
            "| Fan  Temp  Perf  Pwr:Usage/Cap|         Memory-Usage | GPU-Util  Compute M. |\n",
            "|===============================+======================+======================|\n",
            "|   0  Tesla P100-PCIE...  Off  | 00000000:00:04.0 Off |                    0 |\n",
            "| N/A   37C    P0    26W / 250W |      0MiB / 16280MiB |      0%      Default |\n",
            "+-------------------------------+----------------------+----------------------+\n",
            "                                                                               \n",
            "+-----------------------------------------------------------------------------+\n",
            "| Processes:                                                       GPU Memory |\n",
            "|  GPU       PID   Type   Process name                             Usage      |\n",
            "|=============================================================================|\n",
            "|  No running processes found                                                 |\n",
            "+-----------------------------------------------------------------------------+\n"
          ],
          "name": "stdout"
        }
      ]
    },
    {
      "cell_type": "code",
      "metadata": {
        "id": "4mLiQr6FlwAw",
        "colab_type": "code",
        "colab": {}
      },
      "source": [
        "import scipy.io\n",
        "import numpy as np"
      ],
      "execution_count": 0,
      "outputs": []
    },
    {
      "cell_type": "code",
      "metadata": {
        "id": "wjJErQpGl2dh",
        "colab_type": "code",
        "colab": {}
      },
      "source": [
        "matlab_data=scipy.io.loadmat('/content/drive/My Drive/thesis_data/R2450_175_4.mat')"
      ],
      "execution_count": 0,
      "outputs": []
    },
    {
      "cell_type": "code",
      "metadata": {
        "id": "t5zXRcErl-lg",
        "colab_type": "code",
        "outputId": "9d00fd84-a46c-434a-9ea9-fd29ef322681",
        "colab": {
          "base_uri": "https://localhost:8080/",
          "height": 34
        }
      },
      "source": [
        "print(list(matlab_data.keys())[3:])"
      ],
      "execution_count": 9,
      "outputs": [
        {
          "output_type": "stream",
          "text": [
            "['R2450_T2450_test', 'R2450_T2450_train', 'R2450_T500_test', 'R2450_T500_train', 'R2450_T900_test', 'R2450_T900_train', 'R2450_Tlime_test', 'R2450_Tlime_train']\n"
          ],
          "name": "stdout"
        }
      ]
    },
    {
      "cell_type": "code",
      "metadata": {
        "id": "ErDxJVc_mCX-",
        "colab_type": "code",
        "colab": {}
      },
      "source": [
        "train_900=matlab_data['R2450_T900_train']\n",
        "train_2450=matlab_data['R2450_T2450_train']\n",
        "train_500=matlab_data['R2450_T500_train']\n",
        "train_lime=matlab_data['R2450_Tlime_train']\n"
      ],
      "execution_count": 0,
      "outputs": []
    },
    {
      "cell_type": "code",
      "metadata": {
        "id": "gtybbgZsn-VF",
        "colab_type": "code",
        "outputId": "782c07d1-4dff-4cf1-c8c4-de8054d1fb71",
        "colab": {
          "base_uri": "https://localhost:8080/",
          "height": 68
        }
      },
      "source": [
        "print(train_900.shape)\n",
        "print(train_2450.shape)\n",
        "print(train_500.shape)"
      ],
      "execution_count": 11,
      "outputs": [
        {
          "output_type": "stream",
          "text": [
            "(80964360, 2)\n",
            "(81362077, 2)\n",
            "(79670780, 2)\n"
          ],
          "name": "stdout"
        }
      ]
    },
    {
      "cell_type": "code",
      "metadata": {
        "id": "FkcmqluJoOaS",
        "colab_type": "code",
        "colab": {}
      },
      "source": [
        "# test_900=matlab_data['R2450_T900_test']\n",
        "# test_2450=matlab_data['R2450_T2450_test']\n",
        "# test_500=matlab_data['R2450_T500_test']"
      ],
      "execution_count": 0,
      "outputs": []
    },
    {
      "cell_type": "code",
      "metadata": {
        "id": "oGlulEazoYhh",
        "colab_type": "code",
        "colab": {}
      },
      "source": [
        "# print(test_900.shape)\n",
        "# print(test_2450.shape)\n",
        "# print(test_500.shape)"
      ],
      "execution_count": 0,
      "outputs": []
    },
    {
      "cell_type": "code",
      "metadata": {
        "id": "F1Kr_u8u0v8n",
        "colab_type": "code",
        "outputId": "fda26587-5735-4c76-b1dc-e907689976ff",
        "colab": {
          "base_uri": "https://localhost:8080/",
          "height": 68
        }
      },
      "source": [
        "print(train_900.shape)\n",
        "print(train_2450.shape)\n",
        "print(train_500.shape)"
      ],
      "execution_count": 14,
      "outputs": [
        {
          "output_type": "stream",
          "text": [
            "(80964360, 2)\n",
            "(81362077, 2)\n",
            "(79670780, 2)\n"
          ],
          "name": "stdout"
        }
      ]
    },
    {
      "cell_type": "code",
      "metadata": {
        "id": "QpzINBYLofEo",
        "colab_type": "code",
        "colab": {}
      },
      "source": [
        "#Slicing data to be divisible by 2**n \n",
        "# train_900=train_900[1000000:5194304]\n",
        "# train_2450=train_2450[1000000:5194304]\n",
        "# train_500=train_500[1000000:5194304]\n",
        "\n",
        "train_900=train_900[:41943040]\n",
        "train_2450=train_2450[:41943040]\n",
        "train_500=train_500[:41943040]\n",
        "train_lime=train_lime[:41943040]\n",
        "\n",
        "\n",
        "\n",
        "\n",
        "\n"
      ],
      "execution_count": 0,
      "outputs": []
    },
    {
      "cell_type": "code",
      "metadata": {
        "id": "HjLFd5czapbI",
        "colab_type": "code",
        "colab": {}
      },
      "source": [
        ""
      ],
      "execution_count": 0,
      "outputs": []
    },
    {
      "cell_type": "code",
      "metadata": {
        "id": "4fLypDHWqf0W",
        "colab_type": "code",
        "outputId": "d5e7d1b5-2a90-439c-add0-1595f6bf1024",
        "colab": {
          "base_uri": "https://localhost:8080/",
          "height": 34
        }
      },
      "source": [
        "#Concatenate training and test data\n",
        "train_x=np.concatenate((train_900,train_2450,train_500),axis=0)\n",
        "\n",
        "print(train_x.shape)\n",
        "\n"
      ],
      "execution_count": 16,
      "outputs": [
        {
          "output_type": "stream",
          "text": [
            "(125829120, 2)\n"
          ],
          "name": "stdout"
        }
      ]
    },
    {
      "cell_type": "code",
      "metadata": {
        "id": "wyOxPJ6Hbq1y",
        "colab_type": "code",
        "colab": {}
      },
      "source": [
        "# test_900=test_900[1000000:9388608]\n",
        "# test_2450=test_2450[1000000:9388608]\n",
        "# test_500=test_500[1000000:9388608]\n",
        "\n",
        "# test_x=np.concatenate((test_900,test_2450,test_500),axis=0)\n",
        "# print(test_x.shape)"
      ],
      "execution_count": 0,
      "outputs": []
    },
    {
      "cell_type": "code",
      "metadata": {
        "id": "Y_fu6zdXpVX5",
        "colab_type": "code",
        "colab": {
          "base_uri": "https://localhost:8080/",
          "height": 80
        },
        "outputId": "d09de48e-0f1b-4961-d65f-7fcd0f2cab52"
      },
      "source": [
        "import tensorflow as tf\n",
        "from tensorflow import keras\n",
        "from tensorflow.keras import layers\n",
        "from keras import regularizers"
      ],
      "execution_count": 18,
      "outputs": [
        {
          "output_type": "display_data",
          "data": {
            "text/html": [
              "<p style=\"color: red;\">\n",
              "The default version of TensorFlow in Colab will soon switch to TensorFlow 2.x.<br>\n",
              "We recommend you <a href=\"https://www.tensorflow.org/guide/migrate\" target=\"_blank\">upgrade</a> now \n",
              "or ensure your notebook will continue to use TensorFlow 1.x via the <code>%tensorflow_version 1.x</code> magic:\n",
              "<a href=\"https://colab.research.google.com/notebooks/tensorflow_version.ipynb\" target=\"_blank\">more info</a>.</p>\n"
            ],
            "text/plain": [
              "<IPython.core.display.HTML object>"
            ]
          },
          "metadata": {
            "tags": []
          }
        },
        {
          "output_type": "stream",
          "text": [
            "Using TensorFlow backend.\n"
          ],
          "name": "stderr"
        }
      ]
    },
    {
      "cell_type": "code",
      "metadata": {
        "id": "oThxJdsGsOav",
        "colab_type": "code",
        "colab": {}
      },
      "source": [
        "n_classes=4\n",
        "sample_size=128"
      ],
      "execution_count": 0,
      "outputs": []
    },
    {
      "cell_type": "code",
      "metadata": {
        "id": "xWUqsrhqsCdT",
        "colab_type": "code",
        "colab": {}
      },
      "source": [
        "train_x=train_x.reshape(-1,2,sample_size)\n",
        "# test_x=test_x.reshape(-1,2,sample_size)"
      ],
      "execution_count": 0,
      "outputs": []
    },
    {
      "cell_type": "code",
      "metadata": {
        "id": "M3oOMomesUjH",
        "colab_type": "code",
        "colab": {}
      },
      "source": [
        "#Creating train_y\n",
        "train_y=np.zeros(len(train_x))\n",
        "seprator=int(len(train_y)/n_classes)\n",
        "train_y[0:seprator]=0\n",
        "train_y[seprator:2*seprator]=1\n",
        "train_y[2*seprator:3*seprator]=2\n",
        "train_y[3*seprator:]=3\n",
        "#Creating test_y\n",
        "# test_y=np.zeros(len(test_x))\n",
        "# seprator=int(len(test_y)/n_classes)\n",
        "# test_y[0:seprator]=0\n",
        "# test_y[seprator:2*seprator]=1\n",
        "# test_y[2*seprator:3*seprator]=2\n"
      ],
      "execution_count": 0,
      "outputs": []
    },
    {
      "cell_type": "code",
      "metadata": {
        "id": "wk-E6TRZhvE-",
        "colab_type": "code",
        "outputId": "16f728b6-91e2-443d-c2db-7b8ae1180e66",
        "colab": {
          "base_uri": "https://localhost:8080/",
          "height": 51
        }
      },
      "source": [
        "print(train_x.shape)\n",
        "print(train_y.shape)"
      ],
      "execution_count": 22,
      "outputs": [
        {
          "output_type": "stream",
          "text": [
            "(983040, 2, 128)\n",
            "(983040,)\n"
          ],
          "name": "stdout"
        }
      ]
    },
    {
      "cell_type": "code",
      "metadata": {
        "id": "5PyB6URgsavB",
        "colab_type": "code",
        "colab": {}
      },
      "source": [
        "train_y=tf.keras.utils.to_categorical(\n",
        "    train_y,\n",
        "    num_classes=n_classes,\n",
        "    dtype='float32'\n",
        ")\n",
        "# test_y=tf.keras.utils.to_categorical(\n",
        "#     test_y,\n",
        "#     num_classes=n_classes,\n",
        "#     dtype='float32'\n",
        "# )"
      ],
      "execution_count": 0,
      "outputs": []
    },
    {
      "cell_type": "code",
      "metadata": {
        "id": "5X5zkY54oleA",
        "colab_type": "code",
        "outputId": "f14eab0a-f10f-4851-89ed-02adc56e1477",
        "colab": {
          "base_uri": "https://localhost:8080/",
          "height": 51
        }
      },
      "source": [
        "print(train_x.shape)\n",
        "print(train_y.shape)"
      ],
      "execution_count": 24,
      "outputs": [
        {
          "output_type": "stream",
          "text": [
            "(983040, 2, 128)\n",
            "(983040, 4)\n"
          ],
          "name": "stdout"
        }
      ]
    },
    {
      "cell_type": "code",
      "metadata": {
        "id": "y4T7ZE2lsdfw",
        "colab_type": "code",
        "colab": {}
      },
      "source": [
        "img_rows=sample_size\n",
        "img_cols=2\n",
        "train_x = train_x.reshape(-1, img_rows, img_cols, 1)\n",
        "# test_x=test_x.reshape(-1,img_rows,img_cols,1)\n",
        "input_shape = (img_rows, img_cols, 1)"
      ],
      "execution_count": 0,
      "outputs": []
    },
    {
      "cell_type": "code",
      "metadata": {
        "id": "wF8JqJule3QZ",
        "colab_type": "code",
        "outputId": "592c1636-2374-4ac2-e4c5-9d5ba10343ad",
        "colab": {
          "base_uri": "https://localhost:8080/",
          "height": 51
        }
      },
      "source": [
        "print(train_x.shape)\n",
        "print(train_y.shape)"
      ],
      "execution_count": 26,
      "outputs": [
        {
          "output_type": "stream",
          "text": [
            "(983040, 128, 2, 1)\n",
            "(983040, 4)\n"
          ],
          "name": "stdout"
        }
      ]
    },
    {
      "cell_type": "code",
      "metadata": {
        "id": "Ghu6plYElUTd",
        "colab_type": "code",
        "colab": {}
      },
      "source": [
        "from sklearn.model_selection import train_test_split\n",
        "train_x, test_x, train_y, test_y = train_test_split(train_x, train_y, test_size=0.25, shuffle= True)\n"
      ],
      "execution_count": 0,
      "outputs": []
    },
    {
      "cell_type": "code",
      "metadata": {
        "id": "wUTu0_4Hgprf",
        "colab_type": "code",
        "outputId": "b72cc821-c626-414b-fb55-ed3b366126ae",
        "colab": {
          "base_uri": "https://localhost:8080/",
          "height": 34
        }
      },
      "source": [
        "train_x.shape"
      ],
      "execution_count": 28,
      "outputs": [
        {
          "output_type": "execute_result",
          "data": {
            "text/plain": [
              "(737280, 128, 2, 1)"
            ]
          },
          "metadata": {
            "tags": []
          },
          "execution_count": 28
        }
      ]
    },
    {
      "cell_type": "code",
      "metadata": {
        "id": "a2vGA8oIiAaF",
        "colab_type": "code",
        "outputId": "06463c84-f160-44f1-8415-6fcb39ae3af6",
        "colab": {
          "base_uri": "https://localhost:8080/",
          "height": 34
        }
      },
      "source": [
        "test_x.shape"
      ],
      "execution_count": 29,
      "outputs": [
        {
          "output_type": "execute_result",
          "data": {
            "text/plain": [
              "(245760, 128, 2, 1)"
            ]
          },
          "metadata": {
            "tags": []
          },
          "execution_count": 29
        }
      ]
    },
    {
      "cell_type": "code",
      "metadata": {
        "id": "Cx_34Wv9gcLc",
        "colab_type": "code",
        "colab": {}
      },
      "source": [
        "train_x, valid_x, train_y,valid_y = train_test_split(train_x, train_y, test_size=0.20, shuffle= True)"
      ],
      "execution_count": 0,
      "outputs": []
    },
    {
      "cell_type": "code",
      "metadata": {
        "id": "Q1FZSWaWhNhn",
        "colab_type": "code",
        "outputId": "039665ee-fd9b-490f-932c-880d7f189546",
        "colab": {
          "base_uri": "https://localhost:8080/",
          "height": 119
        }
      },
      "source": [
        "print(train_x.shape)\n",
        "print(train_y.shape)\n",
        "print(valid_x.shape)\n",
        "print(valid_y.shape)\n",
        "print(test_x.shape)\n",
        "print(test_y.shape)"
      ],
      "execution_count": 31,
      "outputs": [
        {
          "output_type": "stream",
          "text": [
            "(589824, 128, 2, 1)\n",
            "(589824, 4)\n",
            "(147456, 128, 2, 1)\n",
            "(147456, 4)\n",
            "(245760, 128, 2, 1)\n",
            "(245760, 4)\n"
          ],
          "name": "stdout"
        }
      ]
    },
    {
      "cell_type": "code",
      "metadata": {
        "id": "oqsoFnhAIEAl",
        "colab_type": "code",
        "colab": {}
      },
      "source": [
        "def create_model():\n",
        "  model = tf.keras.models.Sequential()\n",
        "  model.add(tf.keras.layers.BatchNormalization(input_shape=input_shape))\n",
        "  model.add(tf.keras.layers.Conv2D(64, (1, 2), padding='same', activation='elu'))\n",
        "\n",
        "  model.add(tf.keras.layers.Dropout(0.25))\n",
        "\n",
        "  model.add(tf.keras.layers.BatchNormalization(input_shape=input_shape))\n",
        "  model.add(tf.keras.layers.Conv2D(128, (1, 2), padding='same', activation='elu'))\n",
        "\n",
        "  model.add(tf.keras.layers.Dropout(0.25))\n",
        "\n",
        "  model.add(tf.keras.layers.BatchNormalization(input_shape=input_shape))\n",
        "  model.add(tf.keras.layers.Conv2D(256, (1, 2), padding='same', activation='elu'))\n",
        "\n",
        "  model.add(tf.keras.layers.Dropout(0.25))\n",
        "\n",
        "  model.add(tf.keras.layers.Flatten())\n",
        "  model.add(tf.keras.layers.Dense(256))\n",
        "  model.add(tf.keras.layers.Activation('elu'))\n",
        "  model.add(tf.keras.layers.Dropout(0.5))\n",
        "  model.add(tf.keras.layers.Dense(4))\n",
        "  model.add(tf.keras.layers.Activation('softmax'))\n",
        "  return model"
      ],
      "execution_count": 0,
      "outputs": []
    },
    {
      "cell_type": "code",
      "metadata": {
        "id": "PFydwibriLcd",
        "colab_type": "code",
        "outputId": "3cb2ff03-e640-4c15-dda1-49f18ebae328",
        "colab": {
          "base_uri": "https://localhost:8080/",
          "height": 88
        }
      },
      "source": [
        "conv_model=create_model()\n"
      ],
      "execution_count": 33,
      "outputs": [
        {
          "output_type": "stream",
          "text": [
            "WARNING:tensorflow:From /tensorflow-1.15.0/python3.6/tensorflow_core/python/ops/resource_variable_ops.py:1630: calling BaseResourceVariable.__init__ (from tensorflow.python.ops.resource_variable_ops) with constraint is deprecated and will be removed in a future version.\n",
            "Instructions for updating:\n",
            "If using Keras pass *_constraint arguments to layers.\n"
          ],
          "name": "stdout"
        }
      ]
    },
    {
      "cell_type": "code",
      "metadata": {
        "id": "wwWlAvBXn6Sj",
        "colab_type": "code",
        "colab": {
          "base_uri": "https://localhost:8080/",
          "height": 816
        },
        "outputId": "2a381d39-5055-47da-98b4-107b0cd8199b"
      },
      "source": [
        "conv_model.compile(loss='categorical_crossentropy', optimizer='adam', metrics=['accuracy'])\n",
        "# Fit the model\n",
        "history=conv_model.fit(train_x, train_y, validation_data=(valid_x,valid_y), epochs=50)"
      ],
      "execution_count": 34,
      "outputs": [
        {
          "output_type": "stream",
          "text": [
            "Train on 589824 samples, validate on 147456 samples\n",
            "Epoch 1/50\n",
            "589824/589824 [==============================] - 164s 278us/sample - loss: 1.2752 - acc: 0.3912 - val_loss: 1.2331 - val_acc: 0.4378\n",
            "Epoch 2/50\n",
            "589824/589824 [==============================] - 157s 266us/sample - loss: 1.2377 - acc: 0.4061 - val_loss: 1.2081 - val_acc: 0.4375\n",
            "Epoch 3/50\n",
            "589824/589824 [==============================] - 155s 263us/sample - loss: 0.6756 - acc: 0.6986 - val_loss: 0.4739 - val_acc: 0.7944\n",
            "Epoch 4/50\n",
            "589824/589824 [==============================] - 156s 265us/sample - loss: 0.5418 - acc: 0.7628 - val_loss: 0.4600 - val_acc: 0.8123\n",
            "Epoch 5/50\n",
            "589824/589824 [==============================] - 156s 264us/sample - loss: 0.5255 - acc: 0.7705 - val_loss: 0.4984 - val_acc: 0.8127\n",
            "Epoch 6/50\n",
            "589824/589824 [==============================] - 155s 263us/sample - loss: 0.5156 - acc: 0.7747 - val_loss: 0.4255 - val_acc: 0.8124\n",
            "Epoch 7/50\n",
            "589824/589824 [==============================] - 155s 263us/sample - loss: 0.5086 - acc: 0.7780 - val_loss: 0.4846 - val_acc: 0.8074\n",
            "Epoch 8/50\n",
            "589824/589824 [==============================] - 154s 262us/sample - loss: 0.5041 - acc: 0.7797 - val_loss: 0.4639 - val_acc: 0.7997\n",
            "Epoch 9/50\n",
            "589824/589824 [==============================] - 153s 259us/sample - loss: 0.5019 - acc: 0.7801 - val_loss: 0.4744 - val_acc: 0.8043\n",
            "Epoch 10/50\n",
            "589824/589824 [==============================] - 153s 259us/sample - loss: 0.4990 - acc: 0.7815 - val_loss: 0.6125 - val_acc: 0.7487\n",
            "Epoch 11/50\n",
            "589824/589824 [==============================] - 152s 258us/sample - loss: 0.4974 - acc: 0.7822 - val_loss: 0.5220 - val_acc: 0.8113\n",
            "Epoch 12/50\n",
            "589824/589824 [==============================] - 152s 257us/sample - loss: 0.4974 - acc: 0.7823 - val_loss: 0.5156 - val_acc: 0.8165\n",
            "Epoch 13/50\n",
            "589824/589824 [==============================] - 151s 257us/sample - loss: 0.4963 - acc: 0.7824 - val_loss: 0.5146 - val_acc: 0.8114\n",
            "Epoch 14/50\n",
            "589824/589824 [==============================] - 152s 257us/sample - loss: 0.4953 - acc: 0.7831 - val_loss: 0.6089 - val_acc: 0.8182\n",
            "Epoch 15/50\n",
            "589824/589824 [==============================] - 151s 256us/sample - loss: 0.4946 - acc: 0.7839 - val_loss: 0.5096 - val_acc: 0.8129\n",
            "Epoch 16/50\n",
            "589824/589824 [==============================] - 153s 259us/sample - loss: 0.4944 - acc: 0.7833 - val_loss: 0.5224 - val_acc: 0.8042\n",
            "Epoch 17/50\n",
            "589824/589824 [==============================] - 152s 257us/sample - loss: 0.4943 - acc: 0.7839 - val_loss: 0.6662 - val_acc: 0.8097\n",
            "Epoch 18/50\n",
            "589824/589824 [==============================] - 152s 258us/sample - loss: 0.4925 - acc: 0.7845 - val_loss: 0.4880 - val_acc: 0.8018\n",
            "Epoch 19/50\n",
            "589824/589824 [==============================] - 152s 257us/sample - loss: 0.4925 - acc: 0.7842 - val_loss: 0.5960 - val_acc: 0.8123\n",
            "Epoch 20/50\n",
            "589824/589824 [==============================] - 152s 257us/sample - loss: 0.4922 - acc: 0.7843 - val_loss: 0.5179 - val_acc: 0.8105\n",
            "Epoch 21/50\n",
            "589824/589824 [==============================] - 151s 257us/sample - loss: 0.4918 - acc: 0.7843 - val_loss: 0.5580 - val_acc: 0.8136\n",
            "Epoch 22/50\n",
            "589824/589824 [==============================] - 152s 258us/sample - loss: 0.4910 - acc: 0.7851 - val_loss: 0.5744 - val_acc: 0.8131\n",
            "Epoch 23/50\n",
            " 41216/589824 [=>............................] - ETA: 2:09 - loss: 0.4925 - acc: 0.7844Buffered data was truncated after reaching the output size limit."
          ],
          "name": "stdout"
        }
      ]
    },
    {
      "cell_type": "code",
      "metadata": {
        "id": "_sFnZnM7fcKs",
        "colab_type": "code",
        "outputId": "c43d21c9-12fa-49ce-c166-1a955dfb2402",
        "colab": {
          "base_uri": "https://localhost:8080/",
          "height": 295
        }
      },
      "source": [
        "import matplotlib.pyplot as plt\n",
        "plt.plot(history.history['acc'])\n",
        "plt.plot(history.history['val_acc'])\n",
        "plt.title('Model accuracy')\n",
        "plt.ylabel('Accuracy')\n",
        "plt.xlabel('Epoch')\n",
        "plt.legend(['Train', 'Test'], loc='upper left')\n",
        "plt.show()"
      ],
      "execution_count": 35,
      "outputs": [
        {
          "output_type": "display_data",
          "data": {
            "image/png": "[encoded data removed]",
            "text/plain": [
              "<Figure size 432x288 with 1 Axes>"
            ]
          },
          "metadata": {
            "tags": []
          }
        }
      ]
    },
    {
      "cell_type": "code",
      "metadata": {
        "id": "98T85eYcfgU5",
        "colab_type": "code",
        "outputId": "cf9eed58-22b5-45f4-cec9-0b04bed0b10e",
        "colab": {
          "base_uri": "https://localhost:8080/",
          "height": 295
        }
      },
      "source": [
        "# Plot training & validation loss values\n",
        "plt.plot(history.history['loss'])\n",
        "plt.plot(history.history['val_loss'])\n",
        "plt.title('Model loss')\n",
        "plt.ylabel('Loss')\n",
        "plt.xlabel('Epoch')\n",
        "plt.legend(['Train', 'Test'], loc='upper left')\n",
        "plt.show()"
      ],
      "execution_count": 36,
      "outputs": [
        {
          "output_type": "display_data",
          "data": {
            "image/png": "[encoded data removed]",
            "text/plain": [
              "<Figure size 432x288 with 1 Axes>"
            ]
          },
          "metadata": {
            "tags": []
          }
        }
      ]
    },
    {
      "cell_type": "code",
      "metadata": {
        "id": "8W-fL22VmKXG",
        "colab_type": "code",
        "colab": {}
      },
      "source": [
        "from sklearn.metrics import classification_report, confusion_matrix\n"
      ],
      "execution_count": 0,
      "outputs": []
    },
    {
      "cell_type": "code",
      "metadata": {
        "id": "YITgVi40MX5t",
        "colab_type": "code",
        "outputId": "3bb1e795-1221-45bd-a77f-385ff761a311",
        "colab": {
          "base_uri": "https://localhost:8080/",
          "height": 51
        }
      },
      "source": [
        "conv_model.evaluate(test_x,test_y)"
      ],
      "execution_count": 38,
      "outputs": [
        {
          "output_type": "stream",
          "text": [
            "245760/245760 [==============================] - 19s 79us/sample - loss: 0.7414 - acc: 0.8266\n"
          ],
          "name": "stdout"
        },
        {
          "output_type": "execute_result",
          "data": {
            "text/plain": [
              "[0.7413909517015175, 0.8265584]"
            ]
          },
          "metadata": {
            "tags": []
          },
          "execution_count": 38
        }
      ]
    },
    {
      "cell_type": "code",
      "metadata": {
        "id": "tZTigMT-fpcc",
        "colab_type": "code",
        "colab": {}
      },
      "source": [
        "import pandas as pd\n",
        "import seaborn as sns\n",
        "import matplotlib.pyplot as plt\n",
        "\n",
        "def print_confusion_matrix(confusion_matrix, class_names, figsize = (10,7), fontsize=14):\n",
        "\n",
        "    df_cm = pd.DataFrame(\n",
        "        confusion_matrix, index=class_names, columns=class_names, \n",
        "    )\n",
        "    fig = plt.figure(figsize=figsize)\n",
        "    try:\n",
        "        heatmap = sns.heatmap(df_cm, annot=True, fmt=\"d\")\n",
        "    except ValueError:\n",
        "        raise ValueError(\"Confusion matrix values must be integers.\")\n",
        "    heatmap.yaxis.set_ticklabels(heatmap.yaxis.get_ticklabels(), rotation=0, ha='right', fontsize=fontsize)\n",
        "    heatmap.xaxis.set_ticklabels(heatmap.xaxis.get_ticklabels(), rotation=45, ha='right', fontsize=fontsize)\n",
        "    plt.ylabel('True label')\n",
        "    plt.xlabel('Predicted label')\n",
        "    return fig"
      ],
      "execution_count": 0,
      "outputs": []
    },
    {
      "cell_type": "code",
      "metadata": {
        "id": "35tESca0tJkg",
        "colab_type": "code",
        "colab": {}
      },
      "source": [
        "y_pred=conv_model.predict(test_x)"
      ],
      "execution_count": 0,
      "outputs": []
    },
    {
      "cell_type": "code",
      "metadata": {
        "id": "kZm4r32mCLKb",
        "colab_type": "code",
        "colab": {}
      },
      "source": [
        "matrix = confusion_matrix(test_y.argmax(axis=1), y_pred.argmax(axis=1))\n"
      ],
      "execution_count": 0,
      "outputs": []
    },
    {
      "cell_type": "code",
      "metadata": {
        "id": "QfWQ7mGuQzIJ",
        "colab_type": "code",
        "outputId": "3a185ae7-47ca-4688-9c20-e60fb99ffeff",
        "colab": {
          "base_uri": "https://localhost:8080/",
          "height": 510
        }
      },
      "source": [
        "print(print_confusion_matrix(matrix,['VERT900','VERT2450','ANT500','Lime']))"
      ],
      "execution_count": 42,
      "outputs": [
        {
          "output_type": "stream",
          "text": [
            "Figure(720x504)\n"
          ],
          "name": "stdout"
        },
        {
          "output_type": "display_data",
          "data": {
            "image/png": "[encoded data removed]",
            "text/plain": [
              "<Figure size 720x504 with 2 Axes>"
            ]
          },
          "metadata": {
            "tags": []
          }
        }
      ]
    },
    {
      "cell_type": "code",
      "metadata": {
        "id": "yYRfwXeNajtq",
        "colab_type": "code",
        "colab": {
          "base_uri": "https://localhost:8080/",
          "height": 461
        },
        "outputId": "8778b7ba-0698-4a97-c902-734525ae9b21"
      },
      "source": [
        "target_names='VERT900','VERT2450','ANT500,'\n",
        "from sklearn.metrics import confusion_matrix\n",
        "import seaborn as sns\n",
        "cm = confusion_matrix(test_y.argmax(axis=1),y_pred.argmax(axis=1))\n",
        "# Normalise\n",
        "cmn = cm.astype('float') / cm.sum(axis=1)[:, np.newaxis]\n",
        "sns.set(font_scale=1.5)\n",
        "fig, ax = plt.subplots(figsize=(9,7))\n",
        "sns.heatmap(cmn, annot=True, fmt='.3f', xticklabels=target_names, yticklabels=target_names)\n",
        "plt.ylabel('Actual')\n",
        "plt.xlabel('Predicted')\n",
        "plt.show(block=False)"
      ],
      "execution_count": 43,
      "outputs": [
        {
          "output_type": "display_data",
          "data": {
            "image/png": "[encoded data removed]",
            "text/plain": [
              "<Figure size 648x504 with 2 Axes>"
            ]
          },
          "metadata": {
            "tags": []
          }
        }
      ]
    },
    {
      "cell_type": "code",
      "metadata": {
        "id": "-i-glJYaz6sJ",
        "colab_type": "code",
        "colab": {
          "base_uri": "https://localhost:8080/",
          "height": 580
        },
        "outputId": "e1944d18-1f9d-4d4c-ea41-701d8728067d"
      },
      "source": [
        "target_names='VERT900','VERT2450','ANT500','Cellular Antenna'\n",
        "from sklearn.metrics import confusion_matrix\n",
        "import seaborn as sns\n",
        "cm = confusion_matrix(test_y.argmax(axis=1),y_pred.argmax(axis=1))\n",
        "# Normalise\n",
        "cmn = cm.astype('float') / cm.sum(axis=1)[:, np.newaxis]\n",
        "sns.set(font_scale=1.5)\n",
        "fig, ax = plt.subplots(figsize=(9,7))\n",
        "sns.heatmap(cmn, annot=True, fmt='.3f', xticklabels=target_names, yticklabels=target_names)\n",
        "plt.ylabel('Actual')\n",
        "plt.xlabel('Predicted')\n",
        "plt.show(block=False)"
      ],
      "execution_count": 48,
      "outputs": [
        {
          "output_type": "display_data",
          "data": {
            "image/png": "[encoded data removed]",
            "text/plain": [
              "<Figure size 648x504 with 2 Axes>"
            ]
          },
          "metadata": {
            "tags": []
          }
        }
      ]
    },
    {
      "cell_type": "code",
      "metadata": {
        "id": "YtFPcrBArqCG",
        "colab_type": "code",
        "colab": {}
      },
      "source": [
        ""
      ],
      "execution_count": 0,
      "outputs": []
    },
    {
      "cell_type": "code",
      "metadata": {
        "id": "-l6EvfmMnt4G",
        "colab_type": "code",
        "colab": {
          "base_uri": "https://localhost:8080/",
          "height": 204
        },
        "outputId": "3f05d688-c28a-479b-8028-adae228626e2"
      },
      "source": [
        "from sklearn.metrics import classification_report\n",
        "\n",
        "print('\\033[1m'+classification_report(test_y.argmax(axis=1), y_pred.argmax(axis=1), target_names=target_names))"
      ],
      "execution_count": 49,
      "outputs": [
        {
          "output_type": "stream",
          "text": [
            "\u001b[1m                  precision    recall  f1-score   support\n",
            "\n",
            "         VERT900       0.83      0.76      0.80     61536\n",
            "        VERT2450       0.70      0.73      0.72     61178\n",
            "          ANT500       0.83      0.89      0.86     61514\n",
            "Cellular Antenna       0.96      0.92      0.94     61532\n",
            "\n",
            "        accuracy                           0.83    245760\n",
            "       macro avg       0.83      0.83      0.83    245760\n",
            "    weighted avg       0.83      0.83      0.83    245760\n",
            "\n"
          ],
          "name": "stdout"
        }
      ]
    },
    {
      "cell_type": "code",
      "metadata": {
        "id": "EitxSKj_oHrD",
        "colab_type": "code",
        "colab": {}
      },
      "source": [
        "history=conv_model.fit(train_x, train_y, validation_data=(valid_x,valid_y), epochs=25)"
      ],
      "execution_count": 0,
      "outputs": []
    },
    {
      "cell_type": "code",
      "metadata": {
        "id": "Ex2IQW_krrKs",
        "colab_type": "code",
        "colab": {}
      },
      "source": [
        "y_pred=conv_model.predict(test_x)"
      ],
      "execution_count": 0,
      "outputs": []
    },
    {
      "cell_type": "code",
      "metadata": {
        "id": "-d3fN3JMryZz",
        "colab_type": "code",
        "colab": {}
      },
      "source": [
        "print('\\033[1m'+classification_report(test_y.argmax(axis=1), y_pred.argmax(axis=1), target_names=target_names))"
      ],
      "execution_count": 0,
      "outputs": []
    },
    {
      "cell_type": "code",
      "metadata": {
        "id": "haXLc2lbr1PY",
        "colab_type": "code",
        "colab": {}
      },
      "source": [
        "while True:\n",
        "  pass"
      ],
      "execution_count": 0,
      "outputs": []
    },
    {
      "cell_type": "code",
      "metadata": {
        "id": "oweViS3J0kC3",
        "colab_type": "code",
        "colab": {}
      },
      "source": [
        ""
      ],
      "execution_count": 0,
      "outputs": []
    }
  ]
}